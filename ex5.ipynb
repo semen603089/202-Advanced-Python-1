{
 "cells": [
  {
   "cell_type": "markdown",
   "id": "4d269567",
   "metadata": {},
   "source": [
    "### Обработка задачи 305 \n",
    "\n",
    "Введем параметры установки:"
   ]
  },
  {
   "cell_type": "markdown",
   "id": "a26222c3",
   "metadata": {},
   "source": [
    "Введем сначала размеры образца, потом элементы схемы, данные обмотоки и чувствительность осцилографа соответственно:"
   ]
  },
  {
   "cell_type": "code",
   "execution_count": 7,
   "id": "3acd7208",
   "metadata": {},
   "outputs": [],
   "source": [
    "r1 = 8.6 * 10e-3 # m\n",
    "r2 = 14.5 * 10e-3  # m\n",
    "h = 6.3 * 10e-3 # m\n",
    "\n",
    "r1scheme = 24 # Ohm\n",
    "r3scheme = 39 * 10e3 # Ohm\n",
    "c = 4 * 10e-6 # Farad\n",
    "\n",
    "n1 = 500 # coils\n",
    "n2 = 570 # coils\n",
    "\n",
    "Cx = 6.4 * 10e-3 # V/degree\n",
    "Cy = 10 * 10e-3 # V/degree"
   ]
  },
  {
   "cell_type": "markdown",
   "id": "8690ebb6",
   "metadata": {},
   "source": [
    "Рассчитаем площадь сечения образца и длину обмотки:"
   ]
  },
  {
   "cell_type": "code",
   "execution_count": 8,
   "id": "9dca6664",
   "metadata": {},
   "outputs": [],
   "source": [
    "import numpy as np\n",
    "S = h * (r2 - r1)\n",
    "l = np.pi * (r2 + r1)"
   ]
  },
  {
   "cell_type": "markdown",
   "id": "08b0fc03",
   "metadata": {},
   "source": [
    "#### Упражнение 1\n",
    "\n",
    "Необходимо вычислить $$H_c=\\frac{n_1(OA)C_x}{R_1}$$\n",
    "$$B_{ost} = \\frac{R_3 C(OC)C_y}{N_2 }$$\n",
    "$$B_s = \\frac{R_3 C(OD)C_y}{N_2 S_{obr}}$$\n",
    "$$H_s = \\frac{n_1 (OB)C_x}{R_1}$$\n",
    "(см. рис): ![title](305im.png)"
   ]
  },
  {
   "cell_type": "markdown",
   "id": "809e2deb",
   "metadata": {},
   "source": [
    "1) Сигнал с частотой 300Гц"
   ]
  },
  {
   "cell_type": "code",
   "execution_count": 9,
   "id": "c8cbdc4f",
   "metadata": {},
   "outputs": [],
   "source": [
    "OA = 0.5\n",
    "OB = 2.4\n",
    "OC = 1.4\n",
    "OD = 2.6\n",
    "sig = 0.1"
   ]
  },
  {
   "cell_type": "code",
   "execution_count": 18,
   "id": "744c8d87",
   "metadata": {},
   "outputs": [
    {
     "name": "stdout",
     "output_type": "stream",
     "text": [
      "H_C = 0.92 ± 0.18 \n",
      "B_oct = 1.031 ± 0.074 \n",
      "B_S = 1.914 ± 0.074 \n",
      "H_C = 4.41 ± 0.18\n"
     ]
    }
   ],
   "source": [
    "H_C = n1 / l * OA * Cx / r1scheme\n",
    "B_o = r3scheme * c * OC * Cy / n2 / S\n",
    "B_S = r3scheme * c * OD * Cy / n2 / S\n",
    "H_S = n1 / l * OB * Cx / r1scheme\n",
    "sig_H = n1 / l * sig * Cx / r1scheme\n",
    "sig_B = r3scheme * c * sig * Cy / n2 / S\n",
    "print(f'H_C = {H_C:.2f} \\u00B1 {sig_H:.2f} \\nB_oct = {B_o:.3f} \\u00B1 {sig_B:.3f} \\nB_S = {B_S:.3f} \\u00B1 {sig_B:.3f} \\nH_C = {H_S:.2f} \\u00B1 {sig_H:.2f}')"
   ]
  },
  {
   "cell_type": "markdown",
   "id": "0589cd15",
   "metadata": {},
   "source": [
    "2) Сигнал с частотой 400Гц"
   ]
  },
  {
   "cell_type": "code",
   "execution_count": 10,
   "id": "8833c28a",
   "metadata": {},
   "outputs": [],
   "source": [
    "OA = 0.5\n",
    "OB = 1.0\n",
    "OC = 1.3\n",
    "OD = 2.4\n",
    "sig = 0.1"
   ]
  },
  {
   "cell_type": "code",
   "execution_count": 17,
   "id": "ec90200a",
   "metadata": {},
   "outputs": [
    {
     "name": "stdout",
     "output_type": "stream",
     "text": [
      "H_C = 0.92 ± 0.18 \n",
      "B_oct = 0.957 ± 0.074 \n",
      "B_S = 1.767 ± 0.074 \n",
      "H_C = 1.84 ± 0.18\n"
     ]
    }
   ],
   "source": [
    "H_C = n1 / l * OA * Cx / r1scheme\n",
    "B_o = r3scheme * c * OC * Cy / n2 / S\n",
    "B_S = r3scheme * c * OD * Cy / n2 / S\n",
    "H_S = n1 / l * OB * Cx / r1scheme\n",
    "sig_H = n1 / l * sig * Cx / r1scheme\n",
    "sig_B = r3scheme * c * sig * Cy / n2 / S\n",
    "print(f'H_C = {H_C:.2f} \\u00B1 {sig_H:.2f} \\nB_oct = {B_o:.3f} \\u00B1 {sig_B:.3f} \\nB_S = {B_S:.3f} \\u00B1 {sig_B:.3f} \\nH_C = {H_S:.2f} \\u00B1 {sig_H:.2f}')"
   ]
  },
  {
   "cell_type": "markdown",
   "id": "57103c4e",
   "metadata": {},
   "source": [
    "### Упражнение 2\n",
    "\n",
    "Необходимо вычислить величины H и B для каждой ступени изменения амплитуды сигнала генератора, а также относительную магнитную проницаемость $\\mu = \\frac{B}{\\mu_0 H}$"
   ]
  },
  {
   "cell_type": "markdown",
   "id": "d339ed73",
   "metadata": {},
   "source": [
    "Запишем результаты измерений для каждой ступени изменения амплитуды сигнала генератора"
   ]
  },
  {
   "cell_type": "code",
   "execution_count": 33,
   "id": "38b1d68b",
   "metadata": {},
   "outputs": [],
   "source": [
    "OB = np.array([0.2, 0.4, 0.5, 0.6, 0.7, 0.8, 0.9, 1.0, 1.1, 1.3])\n",
    "sig = 0.1 * np.ones(10) # дел\n",
    "OD = np.array([0.2, 0.5, 0.7, 0.9, 0.9, 1.2, 1.4, 1.6, 1.8, 1.9])"
   ]
  },
  {
   "cell_type": "code",
   "execution_count": 34,
   "id": "2c6f3e8b",
   "metadata": {},
   "outputs": [],
   "source": [
    "H = n1 / l * OB * Cx / r1scheme\n",
    "sig_H = n1 / l * sig * Cx / r1scheme\n",
    "B = r3scheme * c * OD * Cy / n2 / S\n",
    "sig_B = r3scheme * c * sig * Cy / n2 / S\n",
    "mu0 = 1.25e-6\n",
    "mu = B / mu0 / H\n",
    "sig_mu = np.sqrt((sig_H / H) ** 2 + (sig_B / B) ** 2) * mu"
   ]
  },
  {
   "cell_type": "markdown",
   "id": "ea4666f1",
   "metadata": {},
   "source": [
    "Построим таблицу с экспериментальными и полученными данными"
   ]
  },
  {
   "cell_type": "code",
   "execution_count": 35,
   "id": "7978667a",
   "metadata": {},
   "outputs": [],
   "source": [
    "import pandas as pd\n",
    "data = pd.DataFrame({'H' : H, 'sig_H' : sig_H, 'B' : B, 'sig_B' : sig_B, 'mu' : mu, 'sig_mu' : sig_mu})"
   ]
  },
  {
   "cell_type": "code",
   "execution_count": 36,
   "id": "d8dd5357",
   "metadata": {},
   "outputs": [
    {
     "name": "stdout",
     "output_type": "stream",
     "text": [
      "          H     sig_H         B    sig_B             mu         sig_mu\n",
      "0  0.367457  0.183729  0.147261  0.07363  320604.995157  226701.966158\n",
      "1  0.734915  0.183729  0.368152  0.07363  400756.243946  128304.600946\n",
      "2  0.918643  0.183729  0.515413  0.07363  448846.993219  110317.938023\n",
      "3  1.102372  0.183729  0.662674  0.07363  480907.492735   96329.812434\n",
      "4  1.286101  0.183729  0.662674  0.07363  412206.422344   74601.211560\n",
      "5  1.469829  0.183729  0.883565  0.07363  480907.492735   72247.359325\n",
      "6  1.653558  0.183729  1.030826  0.07363  498718.881355   65875.685912\n",
      "7  1.837287  0.183729  1.178086  0.07363  512967.992251   60491.629503\n",
      "8  2.021015  0.183729  1.325347  0.07363  524626.355711   55893.965140\n",
      "9  2.388472  0.183729  1.398978  0.07363  468576.531383   43673.853679\n"
     ]
    }
   ],
   "source": [
    "print(data)"
   ]
  },
  {
   "cell_type": "markdown",
   "id": "7fc041fe",
   "metadata": {},
   "source": [
    "Построим по этим данным теперь нуобходимые графики"
   ]
  },
  {
   "cell_type": "code",
   "execution_count": 37,
   "id": "274b9e55",
   "metadata": {},
   "outputs": [],
   "source": [
    "import matplotlib.pyplot as plt"
   ]
  },
  {
   "cell_type": "code",
   "execution_count": 41,
   "id": "2dc9cb09",
   "metadata": {},
   "outputs": [
    {
     "ename": "AttributeError",
     "evalue": "'NoneType' object has no attribute 'addEditVariable'",
     "output_type": "error",
     "traceback": [
      "\u001b[0;31m---------------------------------------------------------------------------\u001b[0m",
      "\u001b[0;31mAttributeError\u001b[0m                            Traceback (most recent call last)",
      "\u001b[0;32m/var/folders/dm/nvpxq4qx7ls8h53357bw14m40000gn/T/ipykernel_782/887032590.py\u001b[0m in \u001b[0;36m<module>\u001b[0;34m\u001b[0m\n\u001b[0;32m----> 1\u001b[0;31m \u001b[0mplt\u001b[0m\u001b[0;34m.\u001b[0m\u001b[0merrorbar\u001b[0m\u001b[0;34m(\u001b[0m\u001b[0mH\u001b[0m\u001b[0;34m,\u001b[0m \u001b[0mmu\u001b[0m\u001b[0;34m,\u001b[0m \u001b[0mxerr\u001b[0m\u001b[0;34m=\u001b[0m\u001b[0msig_H\u001b[0m\u001b[0;34m,\u001b[0m \u001b[0myerr\u001b[0m\u001b[0;34m=\u001b[0m\u001b[0msig_mu\u001b[0m\u001b[0;34m,\u001b[0m \u001b[0mcolor\u001b[0m\u001b[0;34m=\u001b[0m\u001b[0;34m'black'\u001b[0m\u001b[0;34m,\u001b[0m \u001b[0mfmt\u001b[0m\u001b[0;34m=\u001b[0m\u001b[0;34m'-o'\u001b[0m\u001b[0;34m)\u001b[0m\u001b[0;34m\u001b[0m\u001b[0;34m\u001b[0m\u001b[0m\n\u001b[0m\u001b[1;32m      2\u001b[0m \u001b[0mplt\u001b[0m\u001b[0;34m.\u001b[0m\u001b[0mylabel\u001b[0m\u001b[0;34m(\u001b[0m\u001b[0;34m'\\u03BC'\u001b[0m\u001b[0;34m,\u001b[0m \u001b[0mcolor\u001b[0m\u001b[0;34m=\u001b[0m\u001b[0;34m'black'\u001b[0m\u001b[0;34m)\u001b[0m\u001b[0;34m\u001b[0m\u001b[0;34m\u001b[0m\u001b[0m\n\u001b[1;32m      3\u001b[0m \u001b[0mplt\u001b[0m\u001b[0;34m.\u001b[0m\u001b[0mxlabel\u001b[0m\u001b[0;34m(\u001b[0m\u001b[0;34m'H'\u001b[0m\u001b[0;34m,\u001b[0m \u001b[0mcolor\u001b[0m\u001b[0;34m=\u001b[0m\u001b[0;34m'black'\u001b[0m\u001b[0;34m)\u001b[0m\u001b[0;34m\u001b[0m\u001b[0;34m\u001b[0m\u001b[0m\n\u001b[1;32m      4\u001b[0m \u001b[0mplt\u001b[0m\u001b[0;34m.\u001b[0m\u001b[0mshow\u001b[0m\u001b[0;34m(\u001b[0m\u001b[0;34m)\u001b[0m\u001b[0;34m\u001b[0m\u001b[0;34m\u001b[0m\u001b[0m\n",
      "\u001b[0;32m~/PycharmProjects/prac2/matplotlib/pyplot.py\u001b[0m in \u001b[0;36merrorbar\u001b[0;34m(x, y, yerr, xerr, fmt, ecolor, elinewidth, capsize, barsabove, lolims, uplims, xlolims, xuplims, errorevery, capthick, data, **kwargs)\u001b[0m\n\u001b[1;32m   2770\u001b[0m         \u001b[0muplims\u001b[0m\u001b[0;34m=\u001b[0m\u001b[0;32mFalse\u001b[0m\u001b[0;34m,\u001b[0m \u001b[0mxlolims\u001b[0m\u001b[0;34m=\u001b[0m\u001b[0;32mFalse\u001b[0m\u001b[0;34m,\u001b[0m \u001b[0mxuplims\u001b[0m\u001b[0;34m=\u001b[0m\u001b[0;32mFalse\u001b[0m\u001b[0;34m,\u001b[0m \u001b[0merrorevery\u001b[0m\u001b[0;34m=\u001b[0m\u001b[0;36m1\u001b[0m\u001b[0;34m,\u001b[0m\u001b[0;34m\u001b[0m\u001b[0;34m\u001b[0m\u001b[0m\n\u001b[1;32m   2771\u001b[0m         capthick=None, *, data=None, **kwargs):\n\u001b[0;32m-> 2772\u001b[0;31m     return gca().errorbar(\n\u001b[0m\u001b[1;32m   2773\u001b[0m         \u001b[0mx\u001b[0m\u001b[0;34m,\u001b[0m \u001b[0my\u001b[0m\u001b[0;34m,\u001b[0m \u001b[0myerr\u001b[0m\u001b[0;34m=\u001b[0m\u001b[0myerr\u001b[0m\u001b[0;34m,\u001b[0m \u001b[0mxerr\u001b[0m\u001b[0;34m=\u001b[0m\u001b[0mxerr\u001b[0m\u001b[0;34m,\u001b[0m \u001b[0mfmt\u001b[0m\u001b[0;34m=\u001b[0m\u001b[0mfmt\u001b[0m\u001b[0;34m,\u001b[0m \u001b[0mecolor\u001b[0m\u001b[0;34m=\u001b[0m\u001b[0mecolor\u001b[0m\u001b[0;34m,\u001b[0m\u001b[0;34m\u001b[0m\u001b[0;34m\u001b[0m\u001b[0m\n\u001b[1;32m   2774\u001b[0m         \u001b[0melinewidth\u001b[0m\u001b[0;34m=\u001b[0m\u001b[0melinewidth\u001b[0m\u001b[0;34m,\u001b[0m \u001b[0mcapsize\u001b[0m\u001b[0;34m=\u001b[0m\u001b[0mcapsize\u001b[0m\u001b[0;34m,\u001b[0m \u001b[0mbarsabove\u001b[0m\u001b[0;34m=\u001b[0m\u001b[0mbarsabove\u001b[0m\u001b[0;34m,\u001b[0m\u001b[0;34m\u001b[0m\u001b[0;34m\u001b[0m\u001b[0m\n",
      "\u001b[0;32m~/PycharmProjects/prac2/matplotlib/pyplot.py\u001b[0m in \u001b[0;36mgca\u001b[0;34m(**kwargs)\u001b[0m\n\u001b[1;32m   2530\u001b[0m \u001b[0;34m@\u001b[0m\u001b[0m_copy_docstring_and_deprecators\u001b[0m\u001b[0;34m(\u001b[0m\u001b[0mFigure\u001b[0m\u001b[0;34m.\u001b[0m\u001b[0mgca\u001b[0m\u001b[0;34m)\u001b[0m\u001b[0;34m\u001b[0m\u001b[0;34m\u001b[0m\u001b[0m\n\u001b[1;32m   2531\u001b[0m \u001b[0;32mdef\u001b[0m \u001b[0mgca\u001b[0m\u001b[0;34m(\u001b[0m\u001b[0;34m**\u001b[0m\u001b[0mkwargs\u001b[0m\u001b[0;34m)\u001b[0m\u001b[0;34m:\u001b[0m\u001b[0;34m\u001b[0m\u001b[0;34m\u001b[0m\u001b[0m\n\u001b[0;32m-> 2532\u001b[0;31m     \u001b[0;32mreturn\u001b[0m \u001b[0mgcf\u001b[0m\u001b[0;34m(\u001b[0m\u001b[0;34m)\u001b[0m\u001b[0;34m.\u001b[0m\u001b[0mgca\u001b[0m\u001b[0;34m(\u001b[0m\u001b[0;34m**\u001b[0m\u001b[0mkwargs\u001b[0m\u001b[0;34m)\u001b[0m\u001b[0;34m\u001b[0m\u001b[0;34m\u001b[0m\u001b[0m\n\u001b[0m\u001b[1;32m   2533\u001b[0m \u001b[0;34m\u001b[0m\u001b[0m\n\u001b[1;32m   2534\u001b[0m \u001b[0;34m\u001b[0m\u001b[0m\n",
      "\u001b[0;32m~/PycharmProjects/prac2/matplotlib/pyplot.py\u001b[0m in \u001b[0;36mgcf\u001b[0;34m()\u001b[0m\n\u001b[1;32m    852\u001b[0m         \u001b[0;32mreturn\u001b[0m \u001b[0mmanager\u001b[0m\u001b[0;34m.\u001b[0m\u001b[0mcanvas\u001b[0m\u001b[0;34m.\u001b[0m\u001b[0mfigure\u001b[0m\u001b[0;34m\u001b[0m\u001b[0;34m\u001b[0m\u001b[0m\n\u001b[1;32m    853\u001b[0m     \u001b[0;32melse\u001b[0m\u001b[0;34m:\u001b[0m\u001b[0;34m\u001b[0m\u001b[0;34m\u001b[0m\u001b[0m\n\u001b[0;32m--> 854\u001b[0;31m         \u001b[0;32mreturn\u001b[0m \u001b[0mfigure\u001b[0m\u001b[0;34m(\u001b[0m\u001b[0;34m)\u001b[0m\u001b[0;34m\u001b[0m\u001b[0;34m\u001b[0m\u001b[0m\n\u001b[0m\u001b[1;32m    855\u001b[0m \u001b[0;34m\u001b[0m\u001b[0m\n\u001b[1;32m    856\u001b[0m \u001b[0;34m\u001b[0m\u001b[0m\n",
      "\u001b[0;32m~/PycharmProjects/prac2/matplotlib/pyplot.py\u001b[0m in \u001b[0;36mfigure\u001b[0;34m(num, figsize, dpi, facecolor, edgecolor, frameon, FigureClass, clear, **kwargs)\u001b[0m\n\u001b[1;32m    795\u001b[0m                 RuntimeWarning)\n\u001b[1;32m    796\u001b[0m \u001b[0;34m\u001b[0m\u001b[0m\n\u001b[0;32m--> 797\u001b[0;31m         manager = new_figure_manager(\n\u001b[0m\u001b[1;32m    798\u001b[0m             \u001b[0mnum\u001b[0m\u001b[0;34m,\u001b[0m \u001b[0mfigsize\u001b[0m\u001b[0;34m=\u001b[0m\u001b[0mfigsize\u001b[0m\u001b[0;34m,\u001b[0m \u001b[0mdpi\u001b[0m\u001b[0;34m=\u001b[0m\u001b[0mdpi\u001b[0m\u001b[0;34m,\u001b[0m\u001b[0;34m\u001b[0m\u001b[0;34m\u001b[0m\u001b[0m\n\u001b[1;32m    799\u001b[0m             \u001b[0mfacecolor\u001b[0m\u001b[0;34m=\u001b[0m\u001b[0mfacecolor\u001b[0m\u001b[0;34m,\u001b[0m \u001b[0medgecolor\u001b[0m\u001b[0;34m=\u001b[0m\u001b[0medgecolor\u001b[0m\u001b[0;34m,\u001b[0m \u001b[0mframeon\u001b[0m\u001b[0;34m=\u001b[0m\u001b[0mframeon\u001b[0m\u001b[0;34m,\u001b[0m\u001b[0;34m\u001b[0m\u001b[0;34m\u001b[0m\u001b[0m\n",
      "\u001b[0;32m~/PycharmProjects/prac2/matplotlib/pyplot.py\u001b[0m in \u001b[0;36mnew_figure_manager\u001b[0;34m(*args, **kwargs)\u001b[0m\n\u001b[1;32m    314\u001b[0m     \u001b[0;34m\"\"\"Create a new figure manager instance.\"\"\"\u001b[0m\u001b[0;34m\u001b[0m\u001b[0;34m\u001b[0m\u001b[0m\n\u001b[1;32m    315\u001b[0m     \u001b[0m_warn_if_gui_out_of_main_thread\u001b[0m\u001b[0;34m(\u001b[0m\u001b[0;34m)\u001b[0m\u001b[0;34m\u001b[0m\u001b[0;34m\u001b[0m\u001b[0m\n\u001b[0;32m--> 316\u001b[0;31m     \u001b[0;32mreturn\u001b[0m \u001b[0m_backend_mod\u001b[0m\u001b[0;34m.\u001b[0m\u001b[0mnew_figure_manager\u001b[0m\u001b[0;34m(\u001b[0m\u001b[0;34m*\u001b[0m\u001b[0margs\u001b[0m\u001b[0;34m,\u001b[0m \u001b[0;34m**\u001b[0m\u001b[0mkwargs\u001b[0m\u001b[0;34m)\u001b[0m\u001b[0;34m\u001b[0m\u001b[0;34m\u001b[0m\u001b[0m\n\u001b[0m\u001b[1;32m    317\u001b[0m \u001b[0;34m\u001b[0m\u001b[0m\n\u001b[1;32m    318\u001b[0m \u001b[0;34m\u001b[0m\u001b[0m\n",
      "\u001b[0;32m~/PycharmProjects/prac2/matplotlib/backend_bases.py\u001b[0m in \u001b[0;36mnew_figure_manager\u001b[0;34m(cls, num, *args, **kwargs)\u001b[0m\n\u001b[1;32m   3542\u001b[0m         \u001b[0;32mfrom\u001b[0m \u001b[0mmatplotlib\u001b[0m\u001b[0;34m.\u001b[0m\u001b[0mfigure\u001b[0m \u001b[0;32mimport\u001b[0m \u001b[0mFigure\u001b[0m\u001b[0;34m\u001b[0m\u001b[0;34m\u001b[0m\u001b[0m\n\u001b[1;32m   3543\u001b[0m         \u001b[0mfig_cls\u001b[0m \u001b[0;34m=\u001b[0m \u001b[0mkwargs\u001b[0m\u001b[0;34m.\u001b[0m\u001b[0mpop\u001b[0m\u001b[0;34m(\u001b[0m\u001b[0;34m'FigureClass'\u001b[0m\u001b[0;34m,\u001b[0m \u001b[0mFigure\u001b[0m\u001b[0;34m)\u001b[0m\u001b[0;34m\u001b[0m\u001b[0;34m\u001b[0m\u001b[0m\n\u001b[0;32m-> 3544\u001b[0;31m         \u001b[0mfig\u001b[0m \u001b[0;34m=\u001b[0m \u001b[0mfig_cls\u001b[0m\u001b[0;34m(\u001b[0m\u001b[0;34m*\u001b[0m\u001b[0margs\u001b[0m\u001b[0;34m,\u001b[0m \u001b[0;34m**\u001b[0m\u001b[0mkwargs\u001b[0m\u001b[0;34m)\u001b[0m\u001b[0;34m\u001b[0m\u001b[0;34m\u001b[0m\u001b[0m\n\u001b[0m\u001b[1;32m   3545\u001b[0m         \u001b[0;32mreturn\u001b[0m \u001b[0mcls\u001b[0m\u001b[0;34m.\u001b[0m\u001b[0mnew_figure_manager_given_figure\u001b[0m\u001b[0;34m(\u001b[0m\u001b[0mnum\u001b[0m\u001b[0;34m,\u001b[0m \u001b[0mfig\u001b[0m\u001b[0;34m)\u001b[0m\u001b[0;34m\u001b[0m\u001b[0;34m\u001b[0m\u001b[0m\n\u001b[1;32m   3546\u001b[0m \u001b[0;34m\u001b[0m\u001b[0m\n",
      "\u001b[0;32m~/PycharmProjects/prac2/matplotlib/figure.py\u001b[0m in \u001b[0;36m__init__\u001b[0;34m(self, figsize, dpi, facecolor, edgecolor, linewidth, frameon, subplotpars, tight_layout, constrained_layout)\u001b[0m\n\u001b[1;32m   2287\u001b[0m         \u001b[0mself\u001b[0m\u001b[0;34m.\u001b[0m\u001b[0m_cachedRenderer\u001b[0m \u001b[0;34m=\u001b[0m \u001b[0;32mNone\u001b[0m\u001b[0;34m\u001b[0m\u001b[0;34m\u001b[0m\u001b[0m\n\u001b[1;32m   2288\u001b[0m \u001b[0;34m\u001b[0m\u001b[0m\n\u001b[0;32m-> 2289\u001b[0;31m         \u001b[0mself\u001b[0m\u001b[0;34m.\u001b[0m\u001b[0mset_constrained_layout\u001b[0m\u001b[0;34m(\u001b[0m\u001b[0mconstrained_layout\u001b[0m\u001b[0;34m)\u001b[0m\u001b[0;34m\u001b[0m\u001b[0;34m\u001b[0m\u001b[0m\n\u001b[0m\u001b[1;32m   2290\u001b[0m \u001b[0;34m\u001b[0m\u001b[0m\n\u001b[1;32m   2291\u001b[0m         \u001b[0;31m# list of child gridspecs for this figure\u001b[0m\u001b[0;34m\u001b[0m\u001b[0;34m\u001b[0m\u001b[0;34m\u001b[0m\u001b[0m\n",
      "\u001b[0;32m~/PycharmProjects/prac2/matplotlib/figure.py\u001b[0m in \u001b[0;36mset_constrained_layout\u001b[0;34m(self, constrained)\u001b[0m\n\u001b[1;32m   2442\u001b[0m             \u001b[0mself\u001b[0m\u001b[0;34m.\u001b[0m\u001b[0mset_constrained_layout_pads\u001b[0m\u001b[0;34m(\u001b[0m\u001b[0;34m)\u001b[0m\u001b[0;34m\u001b[0m\u001b[0;34m\u001b[0m\u001b[0m\n\u001b[1;32m   2443\u001b[0m \u001b[0;34m\u001b[0m\u001b[0m\n\u001b[0;32m-> 2444\u001b[0;31m         \u001b[0mself\u001b[0m\u001b[0;34m.\u001b[0m\u001b[0minit_layoutgrid\u001b[0m\u001b[0;34m(\u001b[0m\u001b[0;34m)\u001b[0m\u001b[0;34m\u001b[0m\u001b[0;34m\u001b[0m\u001b[0m\n\u001b[0m\u001b[1;32m   2445\u001b[0m \u001b[0;34m\u001b[0m\u001b[0m\n\u001b[1;32m   2446\u001b[0m         \u001b[0mself\u001b[0m\u001b[0;34m.\u001b[0m\u001b[0mstale\u001b[0m \u001b[0;34m=\u001b[0m \u001b[0;32mTrue\u001b[0m\u001b[0;34m\u001b[0m\u001b[0;34m\u001b[0m\u001b[0m\n",
      "\u001b[0;32m~/PycharmProjects/prac2/matplotlib/figure.py\u001b[0m in \u001b[0;36minit_layoutgrid\u001b[0;34m(self)\u001b[0m\n\u001b[1;32m   3090\u001b[0m         \u001b[0;34m\"\"\"Initialize the layoutgrid for use in constrained_layout.\"\"\"\u001b[0m\u001b[0;34m\u001b[0m\u001b[0;34m\u001b[0m\u001b[0m\n\u001b[1;32m   3091\u001b[0m         \u001b[0;32mdel\u001b[0m\u001b[0;34m(\u001b[0m\u001b[0mself\u001b[0m\u001b[0;34m.\u001b[0m\u001b[0m_layoutgrid\u001b[0m\u001b[0;34m)\u001b[0m\u001b[0;34m\u001b[0m\u001b[0;34m\u001b[0m\u001b[0m\n\u001b[0;32m-> 3092\u001b[0;31m         self._layoutgrid = layoutgrid.LayoutGrid(\n\u001b[0m\u001b[1;32m   3093\u001b[0m             parent=None, name='figlb')\n\u001b[1;32m   3094\u001b[0m \u001b[0;34m\u001b[0m\u001b[0m\n",
      "\u001b[0;32m~/PycharmProjects/prac2/matplotlib/_layoutgrid.py\u001b[0m in \u001b[0;36m__init__\u001b[0;34m(self, parent, parent_pos, parent_inner, name, ncols, nrows, h_pad, w_pad, width_ratios, height_ratios)\u001b[0m\n\u001b[1;32m     84\u001b[0m                                   for i in range(ncols)]\n\u001b[1;32m     85\u001b[0m             \u001b[0;32mfor\u001b[0m \u001b[0mi\u001b[0m \u001b[0;32min\u001b[0m \u001b[0mrange\u001b[0m\u001b[0;34m(\u001b[0m\u001b[0mncols\u001b[0m\u001b[0;34m)\u001b[0m\u001b[0;34m:\u001b[0m\u001b[0;34m\u001b[0m\u001b[0;34m\u001b[0m\u001b[0m\n\u001b[0;32m---> 86\u001b[0;31m                 \u001b[0msol\u001b[0m\u001b[0;34m.\u001b[0m\u001b[0maddEditVariable\u001b[0m\u001b[0;34m(\u001b[0m\u001b[0mself\u001b[0m\u001b[0;34m.\u001b[0m\u001b[0mmargins\u001b[0m\u001b[0;34m[\u001b[0m\u001b[0mtodo\u001b[0m\u001b[0;34m]\u001b[0m\u001b[0;34m[\u001b[0m\u001b[0mi\u001b[0m\u001b[0;34m]\u001b[0m\u001b[0;34m,\u001b[0m \u001b[0;34m'strong'\u001b[0m\u001b[0;34m)\u001b[0m\u001b[0;34m\u001b[0m\u001b[0;34m\u001b[0m\u001b[0m\n\u001b[0m\u001b[1;32m     87\u001b[0m \u001b[0;34m\u001b[0m\u001b[0m\n\u001b[1;32m     88\u001b[0m         \u001b[0;32mfor\u001b[0m \u001b[0mtodo\u001b[0m \u001b[0;32min\u001b[0m \u001b[0;34m[\u001b[0m\u001b[0;34m'bottom'\u001b[0m\u001b[0;34m,\u001b[0m \u001b[0;34m'top'\u001b[0m\u001b[0;34m,\u001b[0m \u001b[0;34m'bottomcb'\u001b[0m\u001b[0;34m,\u001b[0m \u001b[0;34m'topcb'\u001b[0m\u001b[0;34m]\u001b[0m\u001b[0;34m:\u001b[0m\u001b[0;34m\u001b[0m\u001b[0;34m\u001b[0m\u001b[0m\n",
      "\u001b[0;31mAttributeError\u001b[0m: 'NoneType' object has no attribute 'addEditVariable'"
     ]
    }
   ],
   "source": [
    "plt.errorbar(H, mu, xerr=sig_H, yerr=sig_mu, color='black', fmt='-o')\n",
    "plt.ylabel('\\u03BC', color='black')\n",
    "plt.xlabel('H', color='black')\n",
    "plt.show()"
   ]
  },
  {
   "cell_type": "markdown",
   "id": "e0a2a0af",
   "metadata": {},
   "source": [
    "Из за этой ошибки просто прикрепляю два изображения, построенные в IDE PyCharm(используя тот же код и библиотеки)\n",
    "Там почему то работает, а тут нет\n",
    "![title](Figure_1.png)\n",
    "![title](Figure_2.png)"
   ]
  },
  {
   "cell_type": "markdown",
   "id": "a03407b4",
   "metadata": {},
   "source": [
    "Теперь найдем максимальное значение магнитной проницаемости образца $\\mu$"
   ]
  },
  {
   "cell_type": "code",
   "execution_count": 42,
   "id": "ec16a1f3",
   "metadata": {},
   "outputs": [],
   "source": [
    "mu_max = np.max(mu)\n",
    "sig_mu_max = sig_mu[np.argmax(mu)]"
   ]
  },
  {
   "cell_type": "code",
   "execution_count": 43,
   "id": "bad82c23",
   "metadata": {},
   "outputs": [
    {
     "name": "stdout",
     "output_type": "stream",
     "text": [
      "mu_max = 524626 ± 55894\n"
     ]
    }
   ],
   "source": [
    "print(f'mu_max = {mu_max:.0f} \\u00B1 {sig_mu_max:.0f}')"
   ]
  },
  {
   "cell_type": "code",
   "execution_count": null,
   "id": "a1209ef6",
   "metadata": {},
   "outputs": [],
   "source": []
  }
 ],
 "metadata": {
  "kernelspec": {
   "display_name": "Python 3 (ipykernel)",
   "language": "python",
   "name": "python3"
  },
  "language_info": {
   "codemirror_mode": {
    "name": "ipython",
    "version": 3
   },
   "file_extension": ".py",
   "mimetype": "text/x-python",
   "name": "python",
   "nbconvert_exporter": "python",
   "pygments_lexer": "ipython3",
   "version": "3.8.3"
  }
 },
 "nbformat": 4,
 "nbformat_minor": 5
}
